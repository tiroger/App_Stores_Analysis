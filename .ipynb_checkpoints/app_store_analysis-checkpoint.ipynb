{
 "cells": [
  {
   "cell_type": "markdown",
   "metadata": {},
   "source": [
    "# Profitability potential of free iOS and Android Mobile Apps\n",
    "\n",
    "The objective of this project is to create mobile app profiles for the Apple App Store and Google Play Store.\n",
    "\n",
    "We want to enable app developpers to make data-driven decisions with respect to the kind of apps they should focus on, based on which types of apps are likely to attacted more users.\n",
    "\n",
    "*As of September 2018, there were approximately 2 million iOS apps available on the App Store, and 2.1 million Android apps on Google Play.*\n",
    "\n",
    "Collecting data ourselves for all these apps is not feasible within our time and budget constraints. However, we've identified two suitable data sets for our goal:\n",
    "\n",
    "* [A data set](https://www.kaggle.com/lava18/google-play-store-apps/home) collected in August 2018, containing data about approximately ten thousand Android apps from Google Play. \n",
    "\n",
    "* [A data set](https://www.kaggle.com/ramamet4/app-store-apple-data-set-10k-apps/home) collected in July 2017, containing data about approximately seven thousand iOS apps from the App Store."
   ]
  },
  {
   "cell_type": "code",
   "execution_count": 205,
   "metadata": {},
   "outputs": [],
   "source": [
    "# Let's open the respective app stores\n",
    "import csv\n",
    "\n",
    "# Opening and reading the data sets\n",
    "\n",
    "#iOS\n",
    "with open('Data/AppleStore_clean.csv', 'r') as ios:\n",
    "    ios_read = csv.reader(ios, delimiter=\",\")\n",
    "    ios_header = next(ios_read)\n",
    "    ios_apps = list(ios_read)\n",
    "\n",
    "#Google\n",
    "with open('Data/googleplaystore.csv', 'r') as google:\n",
    "    google_read = csv.reader(google, delimiter=\",\")\n",
    "    google_header = next(google_read)\n",
    "    google_apps = list(google_read)"
   ]
  },
  {
   "cell_type": "code",
   "execution_count": 206,
   "metadata": {},
   "outputs": [],
   "source": [
    "# To make it easier to read, we'll use the following function:\n",
    "def explore_data(dataset, start, end, rows_and_columns=False):\n",
    "    dataset_slice = dataset[start:end]    \n",
    "    for row in dataset_slice:\n",
    "        print(row)\n",
    "        print('\\n') # adds a new (empty) line after each row\n",
    "\n",
    "    if rows_and_columns:\n",
    "        print('Number of rows:', len(dataset))\n",
    "        print('Number of columns:', len(dataset[0]))"
   ]
  },
  {
   "cell_type": "code",
   "execution_count": 207,
   "metadata": {
    "scrolled": true
   },
   "outputs": [
    {
     "name": "stdout",
     "output_type": "stream",
     "text": [
      "['id', 'track_name', 'size_bytes', 'currency', 'price', 'rating_count_tot', 'rating_count_ver', 'user_rating', 'user_rating_ver', 'ver', 'cont_rating', 'prime_genre', 'sup_devices.num', 'ipadSc_urls.num', 'lang.num', 'vpp_lic', 'game_enab']\n",
      "\n",
      "\n",
      "['281656475', 'PAC-MAN Premium', '100788224', 'USD', '3.99', '21292', '26', '4', '4.5', '6.3.5', '4+', 'Games', '38', '5', '10', '1', '0']\n",
      "\n",
      "\n",
      "['281796108', 'Evernote - stay organized', '158578688', 'USD', '0', '161065', '26', '4', '3.5', '8.2.2', '4+', 'Productivity', '37', '5', '23', '1', '0']\n",
      "\n",
      "\n",
      "['281940292', 'WeatherBug - Local Weather, Radar, Maps, Alerts', '100524032', 'USD', '0', '188583', '2822', '3.5', '4.5', '5.0.0', '4+', 'Weather', '37', '5', '3', '1', '0']\n",
      "\n",
      "\n",
      "['282614216', 'eBay: Best App to Buy, Sell, Save! Online Shopping', '128512000', 'USD', '0', '262241', '649', '4', '4.5', '5.10.0', '12+', 'Shopping', '37', '5', '9', '1', '0']\n",
      "\n",
      "\n",
      "Number of rows: 7197\n",
      "Number of columns: 17\n",
      "\n",
      "\n",
      "['App', 'Category', 'Rating', 'Reviews', 'Size', 'Installs', 'Type', 'Price', 'Content Rating', 'Genres', 'Last Updated', 'Current Ver', 'Android Ver']\n",
      "\n",
      "\n",
      "['Photo Editor & Candy Camera & Grid & ScrapBook', 'ART_AND_DESIGN', '4.1', '159', '19M', '10,000+', 'Free', '0', 'Everyone', 'Art & Design', 'January 7, 2018', '1.0.0', '4.0.3 and up']\n",
      "\n",
      "\n",
      "['Coloring book moana', 'ART_AND_DESIGN', '3.9', '967', '14M', '500,000+', 'Free', '0', 'Everyone', 'Art & Design;Pretend Play', 'January 15, 2018', '2.0.0', '4.0.3 and up']\n",
      "\n",
      "\n",
      "['U Launcher Lite – FREE Live Cool Themes, Hide Apps', 'ART_AND_DESIGN', '4.7', '87510', '8.7M', '5,000,000+', 'Free', '0', 'Everyone', 'Art & Design', 'August 1, 2018', '1.2.4', '4.0.3 and up']\n",
      "\n",
      "\n",
      "['Sketch - Draw & Paint', 'ART_AND_DESIGN', '4.5', '215644', '25M', '50,000,000+', 'Free', '0', 'Teen', 'Art & Design', 'June 8, 2018', 'Varies with device', '4.2 and up']\n",
      "\n",
      "\n",
      "Number of rows: 10841\n",
      "Number of columns: 13\n"
     ]
    }
   ],
   "source": [
    "# For example, let's open the header and the first 4 rows for each app store\n",
    "\n",
    "# iOS\n",
    "print(ios_header)\n",
    "print('\\n')\n",
    "explore_data(ios_apps, 0, 4, True)\n",
    "\n",
    "print('\\n')\n",
    "\n",
    "# Google\n",
    "print(google_header)\n",
    "print('\\n')\n",
    "explore_data(google_apps, 0, 4, True)"
   ]
  },
  {
   "cell_type": "markdown",
   "metadata": {},
   "source": [
    "#### Summary\n",
    "\n",
    "The iOS App Store data set has 11100 apps and 17 columns. \n",
    "\n",
    "The columns of interest are: \n",
    "'track_name', 'currency', 'price', 'rating_count_tot', 'rating_count_ver', 'user_rating and 'prime_genre'. \n",
    "\n",
    "*Note: Not all column names are self-explanatory in this case, but details about each column can be found in the data set [documentation](https://www.kaggle.com/ramamet4/app-store-apple-data-set-10k-apps/home).*\n",
    "\n",
    "\n",
    "The Google Play data set has 10841 apps and 13 columns. \n",
    "\n",
    "The columns of interest are:\n",
    "'App', 'Category', 'Reviews', 'Installs', 'Type', 'Price', and 'Genres'.\n",
    "\n"
   ]
  },
  {
   "cell_type": "markdown",
   "metadata": {},
   "source": [
    "## Data Cleaning\n",
    "\n",
    "We're only interested in free apps -- remove all non-free apps from both data sets.\n",
    "\n",
    "The target market is english speakers -- remove all non-english apps from both data sets.\n",
    "\n",
    "We want to remove/correct inaccurate data and remove duplicate entries."
   ]
  },
  {
   "cell_type": "markdown",
   "metadata": {},
   "source": [
    "### Deleting wrong data\n",
    "\n",
    "*Note: The Google Play data set has a discussion section, which outlines an error for row 10472.*\n",
    "\n",
    "*Let's print that and the next row and compare them against the header.*"
   ]
  },
  {
   "cell_type": "code",
   "execution_count": 208,
   "metadata": {},
   "outputs": [
    {
     "name": "stdout",
     "output_type": "stream",
     "text": [
      "['App', 'Category', 'Rating', 'Reviews', 'Size', 'Installs', 'Type', 'Price', 'Content Rating', 'Genres', 'Last Updated', 'Current Ver', 'Android Ver']\n",
      "\n",
      "\n",
      "['Life Made WI-Fi Touchscreen Photo Frame', '1.9', '19', '3.0M', '1,000+', 'Free', '0', 'Everyone', '', 'February 11, 2018', '1.0.19', '4.0 and up']\n",
      "\n",
      "\n",
      "['osmino Wi-Fi: free WiFi', 'TOOLS', '4.2', '134203', '4.1M', '10,000,000+', 'Free', '0', 'Everyone', 'Tools', 'August 7, 2018', '6.06.14', '4.4 and up']\n",
      "\n",
      "\n"
     ]
    }
   ],
   "source": [
    "print(google_header)\n",
    "print('\\n')\n",
    "explore_data(google_apps, 10472, 10474)"
   ]
  },
  {
   "cell_type": "code",
   "execution_count": 209,
   "metadata": {},
   "outputs": [
    {
     "name": "stdout",
     "output_type": "stream",
     "text": [
      "{'App': 'Life Made WI-Fi Touchscreen Photo Frame', 'Category': '1.9', 'Rating': '19', 'Reviews': '3.0M', 'Size': '1,000+', 'Installs': 'Free', 'Type': '0', 'Price': 'Everyone', 'Content Rating': '', 'Genres': 'February 11, 2018', 'Last Updated': '1.0.19', 'Current Ver': '4.0 and up'}\n",
      "\n",
      "\n",
      "{'App': 'osmino Wi-Fi: free WiFi', 'Category': 'TOOLS', 'Rating': '4.2', 'Reviews': '134203', 'Size': '4.1M', 'Installs': '10,000,000+', 'Type': 'Free', 'Price': '0', 'Content Rating': 'Everyone', 'Genres': 'Tools', 'Last Updated': 'August 7, 2018', 'Current Ver': '6.06.14', 'Android Ver': '4.4 and up'}\n"
     ]
    }
   ],
   "source": [
    "problem_line = dict(zip(google_header, google_apps[10472])) # This line will be correct after deleting the problematic entries\n",
    "correct_line = dict(zip(google_header, google_apps[10473]))\n",
    "print(problem_line)\n",
    "print('\\n')\n",
    "print(correct_line)"
   ]
  },
  {
   "cell_type": "markdown",
   "metadata": {},
   "source": [
    "Row 10472 corresponds to the app \"Life Made WI-Fi Touchscreen Photo Frame\"\n",
    "We can see several problems:\n",
    "1. The category is missing (Assigned valus is 1.9)\n",
    "2. The maximum rating for a Google Play app is 5\n",
    "3. \"Installs\" number is assigned a \"Free\" label\n",
    "4. \"Price\" is set to \"Everyone\"\n",
    "5. \"Content Rating\" is empty\n",
    "\n",
    "For all these reasons, we'll delete this apps from the list."
   ]
  },
  {
   "cell_type": "code",
   "execution_count": 210,
   "metadata": {},
   "outputs": [
    {
     "name": "stdout",
     "output_type": "stream",
     "text": [
      "['Life Made WI-Fi Touchscreen Photo Frame', '1.9', '19', '3.0M', '1,000+', 'Free', '0', 'Everyone', '', 'February 11, 2018', '1.0.19', '4.0 and up']\n"
     ]
    }
   ],
   "source": [
    "# To make sure we deleted the row, we'll look at row 10472 before and after\n",
    "len(google_apps)\n",
    "print(google_apps[10472])\n",
    "#del(google_apps[10472]) # IMPORTANT: RUN THIS ONLY ONCE!\n",
    "#print(google_apps[10472])\n",
    "#len(google_apps)"
   ]
  },
  {
   "cell_type": "markdown",
   "metadata": {},
   "source": [
    "### Deleting duplicate entrie\n",
    "\n",
    "Let's see if we can find duplicate app entries in each data set"
   ]
  },
  {
   "cell_type": "code",
   "execution_count": 211,
   "metadata": {
    "scrolled": true
   },
   "outputs": [
    {
     "name": "stdout",
     "output_type": "stream",
     "text": [
      "Number of duplicate Android apps: 1181\n",
      "\n",
      "\n",
      "Examples of duplicate Android apps: ['Quick PDF Scanner + OCR FREE', 'Box', 'Google My Business', 'ZOOM Cloud Meetings', 'join.me - Simple Meetings']\n"
     ]
    }
   ],
   "source": [
    "# Let's start with the Google App Store\n",
    "duplicate_android_apps = []\n",
    "unique_android_apps = []\n",
    "\n",
    "for app in google_apps:\n",
    "    name = app[0]\n",
    "    if name in unique_android_apps:\n",
    "        duplicate_android_apps.append(name)\n",
    "    else:\n",
    "        unique_android_apps.append(name)\n",
    "\n",
    "print('Number of duplicate Android apps:', len(duplicate_android_apps))\n",
    "print('\\n')\n",
    "print('Examples of duplicate Android apps:', duplicate_android_apps[:5])"
   ]
  },
  {
   "cell_type": "code",
   "execution_count": 212,
   "metadata": {},
   "outputs": [
    {
     "name": "stdout",
     "output_type": "stream",
     "text": [
      "Number of duplicate iOS apps: 2\n",
      "\n",
      "\n",
      "Examples of duplicate iOS apps: ['VR Roller Coaster', 'Mannequin Challenge']\n"
     ]
    }
   ],
   "source": [
    "# Let's now look at the Apple App Store\n",
    "duplicate_ios_apps = []\n",
    "unique_ios_apps = []\n",
    "\n",
    "for app in ios_apps:\n",
    "    name = app[1]\n",
    "    if name in unique_ios_apps:\n",
    "        duplicate_ios_apps.append(name)\n",
    "    else:\n",
    "        unique_ios_apps.append(name)\n",
    "\n",
    "print('Number of duplicate iOS apps:', len(duplicate_ios_apps))\n",
    "print('\\n')\n",
    "print('Examples of duplicate iOS apps:', duplicate_ios_apps[:5])\n",
    "\n",
    "for app in ios_apps:\n",
    "    name = app[1]\n",
    "    if name == 'NA':\n",
    "        print(app)"
   ]
  },
  {
   "cell_type": "markdown",
   "metadata": {},
   "source": [
    "**Note: We had additional problems in the iOS dataset**\n",
    "    * We had multiple entries (~3000) with no available data (i.e. NA)\n",
    "    * We deleted these entries in the original csv file and save as AppleStore_clean.\n",
    "    \n",
    "#import csv\n",
    "#with open('AppleStore.csv', 'r') as inp, open('AppleStore_clean.csv', 'w') as out:\n",
    "    #writer = csv.writer(out)\n",
    "    #for row in csv.reader(inp):\n",
    "        #if row[1] != \"NA\":\n",
    "            #writer.writerow(row)\n",
    "            \n",
    "    * We're using AppleStore_clean.csv for the analysis\n"
   ]
  },
  {
   "cell_type": "markdown",
   "metadata": {},
   "source": [
    "Since we want to keep only one copy of each app, an important question to address is how we determine which duplicate entry to remove.\n",
    "\n",
    "We could do is remove the duplicate rows randomly, but there may be a better method.\n",
    "\n",
    "Let's take a closer look at the duplicates.\n"
   ]
  },
  {
   "cell_type": "code",
   "execution_count": 217,
   "metadata": {},
   "outputs": [
    {
     "name": "stdout",
     "output_type": "stream",
     "text": [
      "['Instagram', 'SOCIAL', '4.5', '66577313', 'Varies with device', '1,000,000,000+', 'Free', '0', 'Teen', 'Social', 'July 31, 2018', 'Varies with device', 'Varies with device']\n",
      "['Instagram', 'SOCIAL', '4.5', '66577446', 'Varies with device', '1,000,000,000+', 'Free', '0', 'Teen', 'Social', 'July 31, 2018', 'Varies with device', 'Varies with device']\n",
      "['Instagram', 'SOCIAL', '4.5', '66577313', 'Varies with device', '1,000,000,000+', 'Free', '0', 'Teen', 'Social', 'July 31, 2018', 'Varies with device', 'Varies with device']\n",
      "['Instagram', 'SOCIAL', '4.5', '66509917', 'Varies with device', '1,000,000,000+', 'Free', '0', 'Teen', 'Social', 'July 31, 2018', 'Varies with device', 'Varies with device']\n"
     ]
    }
   ],
   "source": [
    "#For example, let's look at \"Instagram\" in the Google Play Store\n",
    "for app in google_apps:\n",
    "    name = app[0]\n",
    "    if name == \"Instagram\":\n",
    "        print(app)"
   ]
  },
  {
   "cell_type": "markdown",
   "metadata": {},
   "source": [
    "If you examine the rows we printed for the Instagram app, the main difference happens on the fourth position of each row, which corresponds to the number of reviews. The different numbers show the data was collected at different times."
   ]
  },
  {
   "cell_type": "code",
   "execution_count": 218,
   "metadata": {},
   "outputs": [
    {
     "name": "stdout",
     "output_type": "stream",
     "text": [
      "['952877179', 'VR Roller Coaster', '169523200', 'USD', '0', '107', '102', '3.5', '3.5', '2.0.0', '4+', 'Games', '37', '5', '1', '1', '0']\n",
      "['1089824278', 'VR Roller Coaster', '240964608', 'USD', '0', '67', '44', '3.5', '4', '0.81', '4+', 'Games', '38', '0', '1', '1', '0']\n"
     ]
    }
   ],
   "source": [
    "#Let's also look at \"VR Roller Coaster\" in the Apple App Store\n",
    "for app in ios_apps:\n",
    "    name = app[1]\n",
    "    if name == \"VR Roller Coaster\":\n",
    "        print(app)"
   ]
  },
  {
   "cell_type": "markdown",
   "metadata": {},
   "source": [
    "If you examine the rows we printed for the VR Roller Coaster app, one of the main differences is in tenth position of each row, which corresponds to version number. The different numbers show the data was collected for different app versions.\n",
    "\n",
    "We"
   ]
  }
 ],
 "metadata": {
  "kernelspec": {
   "display_name": "Python 3",
   "language": "python",
   "name": "python3"
  },
  "language_info": {
   "codemirror_mode": {
    "name": "ipython",
    "version": 3
   },
   "file_extension": ".py",
   "mimetype": "text/x-python",
   "name": "python",
   "nbconvert_exporter": "python",
   "pygments_lexer": "ipython3",
   "version": "3.7.1"
  }
 },
 "nbformat": 4,
 "nbformat_minor": 2
}
