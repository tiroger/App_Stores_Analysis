{
 "cells": [
  {
   "cell_type": "markdown",
   "metadata": {},
   "source": [
    "# Profitability potential of free iOS and Android Mobile Apps\n",
    "\n",
    "The objective of this project is to create mobile app profiles for the Apple App Store and Google Play Store.\n",
    "\n",
    "We want to enable app developpers to make data-driven decisions with respect to the kind of apps they should focus on, based on which types of apps are likely to attacted more users.\n",
    "\n",
    "*As of September 2018, there were approximately 2 million iOS apps available on the App Store, and 2.1 million Android apps on Google Play.*\n",
    "\n",
    "Collecting data ourselves for all these apps is not feasible within our time and budget constraints. However, we've identified two suitable data sets for our goal:\n",
    "\n",
    "* [A data set](https://www.kaggle.com/lava18/google-play-store-apps/home) collected in August 2018, containing data about approximately ten thousand Android apps from Google Play. \n",
    "\n",
    "* [A data set](https://www.kaggle.com/ramamet4/app-store-apple-data-set-10k-apps/home) collected in July 2017, containing data about approximately seven thousand iOS apps from the App Store."
   ]
  },
  {
   "cell_type": "code",
   "execution_count": 57,
   "metadata": {},
   "outputs": [],
   "source": [
    "# Let's open the respective app stores\n",
    "import csv\n",
    "\n",
    "# Opening and reading the data sets\n",
    "\n",
    "#iOS\n",
    "with open('Data/AppleStore.csv', 'r') as ios:\n",
    "    ios_read = csv.reader(ios, delimiter=\",\")\n",
    "    ios_header = next(ios_read)\n",
    "    ios_apps = list(ios_read)\n",
    "\n",
    "#Google\n",
    "with open('Data/googleplaystore.csv', 'r') as google:\n",
    "    google_read = csv.reader(google, delimiter=\",\")\n",
    "    google_header = next(google_read)\n",
    "    google_apps = list(google_read)"
   ]
  },
  {
   "cell_type": "code",
   "execution_count": 58,
   "metadata": {},
   "outputs": [],
   "source": [
    "# To make it easier to read, we'll use the following function:\n",
    "def explore_data(dataset, start, end, rows_and_columns=False):\n",
    "    dataset_slice = dataset[start:end]    \n",
    "    for row in dataset_slice:\n",
    "        print(row)\n",
    "        print('\\n') # adds a new (empty) line after each row\n",
    "\n",
    "    if rows_and_columns:\n",
    "        print('Number of rows:', len(dataset))\n",
    "        print('Number of columns:', len(dataset[0]))"
   ]
  },
  {
   "cell_type": "code",
   "execution_count": 77,
   "metadata": {
    "scrolled": true
   },
   "outputs": [
    {
     "name": "stdout",
     "output_type": "stream",
     "text": [
      "['id', 'track_name', 'size_bytes', 'currency', 'price', 'rating_count_tot', 'rating_count_ver', 'user_rating', 'user_rating_ver', 'ver', 'cont_rating', 'prime_genre', 'sup_devices.num', 'ipadSc_urls.num', 'lang.num', 'vpp_lic', 'game_enab']\n",
      "\n",
      "\n",
      "['281656475', 'PAC-MAN Premium', '100788224', 'USD', '3.99', '21292', '26', '4', '4.5', '6.3.5', '4+', 'Games', '38', '5', '10', '1', '0']\n",
      "\n",
      "\n",
      "['281796108', 'Evernote - stay organized', '158578688', 'USD', '0', '161065', '26', '4', '3.5', '8.2.2', '4+', 'Productivity', '37', '5', '23', '1', '0']\n",
      "\n",
      "\n",
      "['281940292', 'WeatherBug - Local Weather, Radar, Maps, Alerts', '100524032', 'USD', '0', '188583', '2822', '3.5', '4.5', '5.0.0', '4+', 'Weather', '37', '5', '3', '1', '0']\n",
      "\n",
      "\n",
      "['282614216', 'eBay: Best App to Buy, Sell, Save! Online Shopping', '128512000', 'USD', '0', '262241', '649', '4', '4.5', '5.10.0', '12+', 'Shopping', '37', '5', '9', '1', '0']\n",
      "\n",
      "\n",
      "Number of rows: 11100\n",
      "Number of columns: 17\n",
      "\n",
      "\n",
      "['App', 'Category', 'Rating', 'Reviews', 'Size', 'Installs', 'Type', 'Price', 'Content Rating', 'Genres', 'Last Updated', 'Current Ver', 'Android Ver']\n",
      "\n",
      "\n",
      "['Photo Editor & Candy Camera & Grid & ScrapBook', 'ART_AND_DESIGN', '4.1', '159', '19M', '10,000+', 'Free', '0', 'Everyone', 'Art & Design', 'January 7, 2018', '1.0.0', '4.0.3 and up']\n",
      "\n",
      "\n",
      "['Coloring book moana', 'ART_AND_DESIGN', '3.9', '967', '14M', '500,000+', 'Free', '0', 'Everyone', 'Art & Design;Pretend Play', 'January 15, 2018', '2.0.0', '4.0.3 and up']\n",
      "\n",
      "\n",
      "['U Launcher Lite – FREE Live Cool Themes, Hide Apps', 'ART_AND_DESIGN', '4.7', '87510', '8.7M', '5,000,000+', 'Free', '0', 'Everyone', 'Art & Design', 'August 1, 2018', '1.2.4', '4.0.3 and up']\n",
      "\n",
      "\n",
      "['Sketch - Draw & Paint', 'ART_AND_DESIGN', '4.5', '215644', '25M', '50,000,000+', 'Free', '0', 'Teen', 'Art & Design', 'June 8, 2018', 'Varies with device', '4.2 and up']\n",
      "\n",
      "\n",
      "Number of rows: 10840\n",
      "Number of columns: 13\n"
     ]
    }
   ],
   "source": [
    "# For example, let's open the header and the first 4 rows for each app store\n",
    "\n",
    "# iOS\n",
    "print(ios_header)\n",
    "print('\\n')\n",
    "explore_data(ios_apps, 0, 4, True)\n",
    "\n",
    "print('\\n')\n",
    "\n",
    "# Google\n",
    "print(google_header)\n",
    "print('\\n')\n",
    "explore_data(google_apps, 0, 4, True)"
   ]
  },
  {
   "cell_type": "markdown",
   "metadata": {},
   "source": [
    "#### Summary\n",
    "\n",
    "The iOS App Store data set has 7197 apps and 16 columns. \n",
    "\n",
    "The columns of interest are: \n",
    "'track_name', 'currency', 'price', 'rating_count_tot', 'rating_count_ver', and 'prime_genre'. \n",
    "\n",
    "*Note: Not all column names are self-explanatory in this case, but details about each column can be found in the data set [documentation](https://www.kaggle.com/ramamet4/app-store-apple-data-set-10k-apps/home).*\n",
    "\n",
    "\n",
    "The Google Play data set has 10841 apps and 13 columns. \n",
    "\n",
    "The columns of interest are:\n",
    "'App', 'Category', 'Reviews', 'Installs', 'Type', 'Price', and 'Genres'.\n",
    "\n"
   ]
  },
  {
   "cell_type": "markdown",
   "metadata": {},
   "source": [
    "## Data Cleaning\n",
    "\n",
    "We're only interested in free apps -- remove all non-free apps from both data sets.\n",
    "\n",
    "The target market is english speakers -- remove all non-english apps from both data sets.\n",
    "\n",
    "We want to remove/correct inaccurate data and remove duplicate entries."
   ]
  },
  {
   "cell_type": "markdown",
   "metadata": {},
   "source": [
    "### Deleting wrong data\n",
    "\n",
    "*Note: The Google Play data set has a discussion section, which outlines an error for row 10472.*\n",
    "\n",
    "*Let's print that and the next row and compare them against the header.*"
   ]
  },
  {
   "cell_type": "code",
   "execution_count": 78,
   "metadata": {},
   "outputs": [
    {
     "name": "stdout",
     "output_type": "stream",
     "text": [
      "['App', 'Category', 'Rating', 'Reviews', 'Size', 'Installs', 'Type', 'Price', 'Content Rating', 'Genres', 'Last Updated', 'Current Ver', 'Android Ver']\n",
      "\n",
      "\n",
      "['osmino Wi-Fi: free WiFi', 'TOOLS', '4.2', '134203', '4.1M', '10,000,000+', 'Free', '0', 'Everyone', 'Tools', 'August 7, 2018', '6.06.14', '4.4 and up']\n",
      "\n",
      "\n",
      "['Sat-Fi Voice', 'COMMUNICATION', '3.4', '37', '14M', '1,000+', 'Free', '0', 'Everyone', 'Communication', 'November 21, 2014', '2.2.1.5', '2.2 and up']\n",
      "\n",
      "\n"
     ]
    }
   ],
   "source": [
    "print(google_header)\n",
    "print('\\n')\n",
    "explore_data(google_apps, 10472, 10474)"
   ]
  },
  {
   "cell_type": "code",
   "execution_count": 79,
   "metadata": {},
   "outputs": [
    {
     "name": "stdout",
     "output_type": "stream",
     "text": [
      "{'App': 'osmino Wi-Fi: free WiFi', 'Category': 'TOOLS', 'Rating': '4.2', 'Reviews': '134203', 'Size': '4.1M', 'Installs': '10,000,000+', 'Type': 'Free', 'Price': '0', 'Content Rating': 'Everyone', 'Genres': 'Tools', 'Last Updated': 'August 7, 2018', 'Current Ver': '6.06.14', 'Android Ver': '4.4 and up'}\n",
      "\n",
      "\n",
      "{'App': 'Sat-Fi Voice', 'Category': 'COMMUNICATION', 'Rating': '3.4', 'Reviews': '37', 'Size': '14M', 'Installs': '1,000+', 'Type': 'Free', 'Price': '0', 'Content Rating': 'Everyone', 'Genres': 'Communication', 'Last Updated': 'November 21, 2014', 'Current Ver': '2.2.1.5', 'Android Ver': '2.2 and up'}\n"
     ]
    }
   ],
   "source": [
    "problem_line = dict(zip(google_header, google_apps[10472])) # This line will be correct after deleting the problematic entries\n",
    "correct_line = dict(zip(google_header, google_apps[10473]))\n",
    "print(problem_line)\n",
    "print('\\n')\n",
    "print(correct_line)"
   ]
  },
  {
   "cell_type": "markdown",
   "metadata": {},
   "source": [
    "Row 10472 corresponds to the app \"Life Made WI-Fi Touchscreen Photo Frame\"\n",
    "We can see several problems:\n",
    "1. The category is missing (Assigned valus is 1.9)\n",
    "2. The maximum rating for a Google Play app is 5\n",
    "3. \"Installs\" number is assigned a \"Free\" label\n",
    "4. \"Price\" is set to \"Everyone\"\n",
    "5. \"Content Rating\" is empty\n",
    "\n",
    "For all these reasons, we'll delete this apps from the list."
   ]
  },
  {
   "cell_type": "code",
   "execution_count": 80,
   "metadata": {},
   "outputs": [
    {
     "name": "stdout",
     "output_type": "stream",
     "text": [
      "['osmino Wi-Fi: free WiFi', 'TOOLS', '4.2', '134203', '4.1M', '10,000,000+', 'Free', '0', 'Everyone', 'Tools', 'August 7, 2018', '6.06.14', '4.4 and up']\n"
     ]
    }
   ],
   "source": [
    "# To make sure we deleted the row, we'll look at row 10472 before and after\n",
    "len(google_apps)\n",
    "print(google_apps[10472])\n",
    "#del(google_apps[10472]) # IMPORTANT: RUN THIS ONLY ONCE!\n",
    "#print(google_apps[10472])\n",
    "#len(google_apps)"
   ]
  },
  {
   "cell_type": "markdown",
   "metadata": {},
   "source": [
    "### Deleting duplicate entrie\n",
    "\n",
    "Let's see if we can find duplicate app entries in each data set"
   ]
  },
  {
   "cell_type": "code",
   "execution_count": 109,
   "metadata": {},
   "outputs": [],
   "source": [
    "#To facilitate the task, we'll create an function to locate duplicate apps\n",
    "duplicate_apps = []\n",
    "unique_apps = []\n",
    "\n",
    "def duplicate_finder(dataset):\n",
    "    for name in dataset:\n",
    "        name = dataset[0]\n",
    "        if name in unique_apps:\n",
    "            duplicate_apps.append(name)\n",
    "        else:                \n",
    "            unique_apps.append(name)\n",
    "    print(len(duplicate_apps))\n",
    "    print(len(unique_apps))\n",
    "    del duplicate_apps[:]\n",
    "    del unique_apps[:]"
   ]
  },
  {
   "cell_type": "code",
   "execution_count": 110,
   "metadata": {},
   "outputs": [
    {
     "name": "stdout",
     "output_type": "stream",
     "text": [
      "11099\n"
     ]
    }
   ],
   "source": [
    "# Let's first look at ios apps\n",
    "duplicate_finder(ios_apps)\n",
    "print(len(duplicate_apps))"
   ]
  },
  {
   "cell_type": "code",
   "execution_count": 111,
   "metadata": {},
   "outputs": [
    {
     "name": "stdout",
     "output_type": "stream",
     "text": [
      "21938\n"
     ]
    }
   ],
   "source": [
    "# Let's now look at google apps\n",
    "duplicate_finder(google_apps)\n",
    "print(len(duplicate_apps))"
   ]
  },
  {
   "cell_type": "code",
   "execution_count": null,
   "metadata": {},
   "outputs": [],
   "source": []
  }
 ],
 "metadata": {
  "kernelspec": {
   "display_name": "Python 3",
   "language": "python",
   "name": "python3"
  },
  "language_info": {
   "codemirror_mode": {
    "name": "ipython",
    "version": 3
   },
   "file_extension": ".py",
   "mimetype": "text/x-python",
   "name": "python",
   "nbconvert_exporter": "python",
   "pygments_lexer": "ipython3",
   "version": "3.7.1"
  }
 },
 "nbformat": 4,
 "nbformat_minor": 2
}
